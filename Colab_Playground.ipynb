{
  "nbformat": 4,
  "nbformat_minor": 0,
  "metadata": {
    "colab": {
      "provenance": []
    },
    "kernelspec": {
      "name": "python3",
      "display_name": "Python 3"
    },
    "language_info": {
      "name": "python"
    }
  },
  "cells": [
    {
      "cell_type": "markdown",
      "source": [
        "# Projectile game\n",
        "This is a game included on the Foundational Math 2 from the course Algebra with Python by freecodecamp <br>\n",
        "\n",
        "The goal of the game is to make an object pass an obstacle using projectile motion equation. Starting at point `(0,0)`, the player must input an initial velocity to pass the obstacle.\n",
        "\n",
        "<b> Note: </b> this is a simple graph with a parabola and assumes that the x-axis represents time and also the distance; this is not made accurately and is for illustrative purposes only\n"
      ],
      "metadata": {
        "id": "3V4IoPsMJxaN"
      }
    },
    {
      "cell_type": "markdown",
      "source": [
        "V1.0 Simple graph output"
      ],
      "metadata": {
        "id": "VLOgMXdxKivT"
      }
    },
    {
      "cell_type": "code",
      "execution_count": null,
      "metadata": {
        "id": "9qtMsWZVJoqf"
      },
      "outputs": [],
      "source": [
        "import matplotlib.pyplot as plt\n",
        "import numpy as np\n",
        "import random\n",
        "import time\n",
        "\n",
        "# determine line position and height randomly\n",
        "linex = random.randint(2,18)\n",
        "liney = random.randint(20,100)\n",
        "\n",
        "# graph dimensions\n",
        "xmin = 0\n",
        "xmax = 20\n",
        "ymin = 0\n",
        "ymax = 200\n",
        "\n",
        "# GRAPH 1: obstacle\n",
        "# graph set-up\n",
        "points = 4*(xmax-xmin)\n",
        "x_vals = np.linspace(xmin, xmax, points)\n",
        "fig1, ax1 = plt.subplots()\n",
        "ax1.axis([xmin,xmax,ymin,ymax])     # window size\n",
        "ax1.plot([xmin,xmax],[0,0],'b')     # blue x axis\n",
        "ax1.plot([0,0],[ymin,ymax], 'b')    # blue y axis\n",
        "fig1.suptitle(\"Overcome the obstacle\")\n",
        "ax1.set_title(\"Input initial velocity to pass above the obstacle\", fontsize=10)\n",
        "\n",
        "# plot a random line using the line coordinates\n",
        "ax1.plot([linex,linex],[0,liney],'r')\n",
        "plt.show()\n",
        "\n",
        "# Short delay to let the figure render\n",
        "time.sleep(1)  # 1 second\n",
        "\n",
        "# set values for the parabolic trajectory\n",
        "a = -4.9                                   # gravitational constant\n",
        "b = float(input(\"Initial velocity = \\n\"))  # user defined initial velocity\n",
        "c = 0                                      # start at height = 0\n",
        "\n",
        "# GRAPH 2: obstacle and parabola\n",
        "# graph dimensions\n",
        "xmin = 0\n",
        "xmax = 20\n",
        "ymin = 0\n",
        "ymax = 200\n",
        "\n",
        "# graph set-up\n",
        "points = 4*(xmax-xmin)\n",
        "x_vals = np.linspace(xmin, xmax, points)\n",
        "y_vals = a * x_vals**2 + b * x_vals + c # parabola equation\n",
        "\n",
        "fig2, ax2 = plt.subplots()\n",
        "ax2.axis([xmin,xmax,ymin,ymax])         # window size\n",
        "ax2.plot([xmin,xmax],[0,0],'b')         # blue x axis\n",
        "ax2.plot([0,0],[ymin,ymax], 'b')        # blue y axis\n",
        "ax2.plot([linex,linex],[0,liney],'r')   # plot the line again\n",
        "ax2.plot(x_vals,y_vals)                 # plot the trajectory\n",
        "\n",
        "# check if the equation will pass the parabola\n",
        "y_at_line = a * linex**2 + b * linex + c # parabola's point on obstacle's x-axis\n",
        "\n",
        "fig2.suptitle('Will it succeed?')\n",
        "ax2.set_title(f'Line Max Height: {liney}, Pos at line x-value: {y_at_line:.2f}',fontsize=10)\n",
        "\n",
        "if y_at_line < 0:\n",
        "    fig2.text(0.5, 0.02, \"The projectile landed before reaching the line!\",\n",
        "        fontsize=12, color='red', ha='center', va='center')\n",
        "elif liney > y_at_line:\n",
        "    fig2.text(0.5, 0.02, \"Too Slow!\", fontsize=12, color='red',\n",
        "        ha='center', va='center')\n",
        "else:\n",
        "    fig2.text(0.5, 0.02, \"Nice Shot!\", fontsize=12, color='green',\n",
        "        ha='center', va='center')\n",
        "\n",
        "plt.show()"
      ]
    }
  ]
}